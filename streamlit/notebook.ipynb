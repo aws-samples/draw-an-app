{
 "cells": [
  {
   "cell_type": "code",
   "execution_count": null,
   "metadata": {},
   "outputs": [],
   "source": [
    "# /********************************************************************************************************************\n",
    "# *  Copyright 2024 Amazon.com, Inc. or its affiliates. All Rights Reserved.                                           *\n",
    "# *                                                                                                                    *\n",
    "# *  Licensed under the Amazon Software License (the \"License\"). You may not use this file except in compliance        *\n",
    "# *  with the License. A copy of the License is located at                                                             *\n",
    "# *                                                                                                                    *\n",
    "# *      http://aws.amazon.com/asl/                                                                                    *\n",
    "# *                                                                                                                    *\n",
    "# *  or in the \"license\" file accompanying this file. This file is distributed on an \"AS IS\" BASIS, WITHOUT WARRANTIES *\n",
    "# *  OR CONDITIONS OF ANY KIND, express or implied. See the License for the specific language governing permissions    *\n",
    "# *  and limitations under the License.                                                                                *\n",
    "# **********************************************************************************************************************/"
   ]
  },
  {
   "cell_type": "code",
   "execution_count": null,
   "metadata": {},
   "outputs": [],
   "source": [
    "%env AWS_ACCESS_KEY_ID=\n",
    "%env AWS_SECRET_ACCESS_KEY=\n",
    "%env AWS_SESSION_TOKEN=\n"
   ]
  },
  {
   "cell_type": "code",
   "execution_count": null,
   "metadata": {},
   "outputs": [],
   "source": [
    "!/usr/bin/python3 -m pip install -r requirements.txt"
   ]
  },
  {
   "cell_type": "code",
   "execution_count": null,
   "metadata": {},
   "outputs": [],
   "source": [
    "%env BEDROCK_REGION=us-west-2 \n",
    "%env BEDROCK_MODEL_ID=anthropic.claude-3-sonnet-20240229-v1:0"
   ]
  },
  {
   "cell_type": "code",
   "execution_count": null,
   "metadata": {},
   "outputs": [],
   "source": [
    "import langchain_app\n",
    "langchain_app.set_workspace('/home/ubuntu/workspace')"
   ]
  },
  {
   "cell_type": "code",
   "execution_count": null,
   "metadata": {},
   "outputs": [],
   "source": [
    "print(langchain_app.send_message(\"I want to create a blood donation 3 tier web app. The frontend must be in react. the apis must be implemneted as a flask app and the database should be postgres.\"))"
   ]
  },
  {
   "cell_type": "code",
   "execution_count": null,
   "metadata": {},
   "outputs": [],
   "source": [
    "print(langchain_app.send_message(\"Donors sholuld be able to see available blood donation events in a calendar like view and choose an event to schedule their appointment. Use TOTP to ensure that only real poeple are registering themselves.\"))"
   ]
  },
  {
   "cell_type": "code",
   "execution_count": null,
   "metadata": {},
   "outputs": [],
   "source": [
    "print(langchain_app.send_message(\"Let there be a way to choose location. The calendar will then display all events in that location. No automatic location detection is needed.\"))"
   ]
  },
  {
   "cell_type": "code",
   "execution_count": null,
   "metadata": {},
   "outputs": [],
   "source": [
    "print(langchain_app.send_message(\"Dont ask more questions. Proceed to implementation\"))"
   ]
  },
  {
   "cell_type": "code",
   "execution_count": null,
   "metadata": {},
   "outputs": [],
   "source": [
    "print(langchain_app.send_message(\"yes, proceed\"))"
   ]
  },
  {
   "cell_type": "code",
   "execution_count": null,
   "metadata": {},
   "outputs": [],
   "source": [
    "print(langchain_app.send_message(\"ok, clone Raad05/blood-donation\"))"
   ]
  },
  {
   "cell_type": "code",
   "execution_count": null,
   "metadata": {},
   "outputs": [],
   "source": [
    "print(langchain_app.send_message(\"yes, proceed\"))"
   ]
  },
  {
   "cell_type": "code",
   "execution_count": null,
   "metadata": {},
   "outputs": [],
   "source": [
    "print(langchain_app.send_message(\"yes, proceed\"))"
   ]
  },
  {
   "cell_type": "code",
   "execution_count": null,
   "metadata": {},
   "outputs": [],
   "source": [
    "print(langchain_app.send_message(\"yes, proceed to integrate front end and backend\"))"
   ]
  },
  {
   "cell_type": "code",
   "execution_count": null,
   "metadata": {},
   "outputs": [],
   "source": []
  }
 ],
 "metadata": {
  "kernelspec": {
   "display_name": "Python 3",
   "language": "python",
   "name": "python3"
  },
  "language_info": {
   "codemirror_mode": {
    "name": "ipython",
    "version": 3
   },
   "file_extension": ".py",
   "mimetype": "text/x-python",
   "name": "python",
   "nbconvert_exporter": "python",
   "pygments_lexer": "ipython3",
   "version": "3.12.3"
  }
 },
 "nbformat": 4,
 "nbformat_minor": 2
}
